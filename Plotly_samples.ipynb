{
  "nbformat": 4,
  "nbformat_minor": 0,
  "metadata": {
    "colab": {
      "name": "Plotly_samples.ipynb",
      "provenance": [],
      "authorship_tag": "ABX9TyPRLzXfDTgFxhWQZvqqOuCA",
      "include_colab_link": true
    },
    "kernelspec": {
      "name": "python3",
      "display_name": "Python 3"
    }
  },
  "cells": [
    {
      "cell_type": "markdown",
      "metadata": {
        "id": "view-in-github",
        "colab_type": "text"
      },
      "source": [
        "<a href=\"https://colab.research.google.com/github/einstein27/visualization_python/blob/main/Plotly_samples.ipynb\" target=\"_parent\"><img src=\"https://colab.research.google.com/assets/colab-badge.svg\" alt=\"Open In Colab\"/></a>"
      ]
    },
    {
      "cell_type": "code",
      "metadata": {
        "id": "7-6opJMzuAe-"
      },
      "source": [
        "#!pip install chart_studio"
      ],
      "execution_count": null,
      "outputs": []
    },
    {
      "cell_type": "code",
      "metadata": {
        "colab": {
          "base_uri": "https://localhost:8080/",
          "height": 17
        },
        "id": "20FNykEutx-x",
        "outputId": "285f4940-7d9a-469e-d233-95fc98597276"
      },
      "source": [
        "# IMPORT\n",
        "import pandas as pd\n",
        "import numpy as np\n",
        "import chart_studio.plotly as py\n",
        "import cufflinks as cf\n",
        "import seaborn as sns\n",
        "import plotly.express as px\n",
        "%matplotlib inline\n",
        "\n",
        "# Make Plotly work in your Jupyter Notebook\n",
        "from plotly.offline import download_plotlyjs, init_notebook_mode, plot, iplot\n",
        "init_notebook_mode(connected=True)\n",
        "# Use Plotly locally\n",
        "cf.go_offline()"
      ],
      "execution_count": null,
      "outputs": [
        {
          "output_type": "display_data",
          "data": {
            "text/html": [
              "        <script type=\"text/javascript\">\n",
              "        window.PlotlyConfig = {MathJaxConfig: 'local'};\n",
              "        if (window.MathJax) {MathJax.Hub.Config({SVG: {font: \"STIX-Web\"}});}\n",
              "        if (typeof require !== 'undefined') {\n",
              "        require.undef(\"plotly\");\n",
              "        requirejs.config({\n",
              "            paths: {\n",
              "                'plotly': ['https://cdn.plot.ly/plotly-latest.min']\n",
              "            }\n",
              "        });\n",
              "        require(['plotly'], function(Plotly) {\n",
              "            window._Plotly = Plotly;\n",
              "        });\n",
              "        }\n",
              "        </script>\n",
              "        "
            ]
          },
          "metadata": {
            "tags": []
          }
        },
        {
          "output_type": "display_data",
          "data": {
            "text/html": [
              "        <script type=\"text/javascript\">\n",
              "        window.PlotlyConfig = {MathJaxConfig: 'local'};\n",
              "        if (window.MathJax) {MathJax.Hub.Config({SVG: {font: \"STIX-Web\"}});}\n",
              "        if (typeof require !== 'undefined') {\n",
              "        require.undef(\"plotly\");\n",
              "        requirejs.config({\n",
              "            paths: {\n",
              "                'plotly': ['https://cdn.plot.ly/plotly-latest.min']\n",
              "            }\n",
              "        });\n",
              "        require(['plotly'], function(Plotly) {\n",
              "            window._Plotly = Plotly;\n",
              "        });\n",
              "        }\n",
              "        </script>\n",
              "        "
            ]
          },
          "metadata": {
            "tags": []
          }
        }
      ]
    },
    {
      "cell_type": "code",
      "metadata": {
        "colab": {
          "base_uri": "https://localhost:8080/",
          "height": 282
        },
        "id": "PBGVBKccuPSP",
        "outputId": "e7efdbc2-df3c-49ea-e37f-c94e7963c850"
      },
      "source": [
        "# BASICS\n",
        "\n",
        "# Create a dataframe using a NumPy array that is 50 by 4\n",
        "arr_1 = np.random.randn(50, 4)\n",
        "df_1 = pd.DataFrame(arr_1, columns=['A','B','C','D'])\n",
        "\n",
        "# Compare old plots to a Plotly interactive plot\n",
        "# You can save as PNG, Zoom, Pan, Turn off & on Data and more\n",
        "\n",
        "df_1.plot()\n",
        "\n"
      ],
      "execution_count": null,
      "outputs": [
        {
          "output_type": "execute_result",
          "data": {
            "text/plain": [
              "<matplotlib.axes._subplots.AxesSubplot at 0x7f8dafb2c210>"
            ]
          },
          "metadata": {
            "tags": []
          },
          "execution_count": 8
        },
        {
          "output_type": "display_data",
          "data": {
            "image/png": "[encoded data removed]",
            "text/plain": [
              "<Figure size 432x288 with 1 Axes>"
            ]
          },
          "metadata": {
            "tags": [],
            "needs_background": "light"
          }
        }
      ]
    },
    {
      "cell_type": "markdown",
      "metadata": {
        "id": "M6UWo8FPvGn7"
      },
      "source": [
        ""
      ]
    },
    {
      "cell_type": "code",
      "metadata": {
        "id": "zYC6uAQnxT8t"
      },
      "source": [
        "import os\n",
        "import datetime as dt\n",
        "#import pandas_datareader as web\n",
        "import pandas_datareader as pdr\n",
        "start = dt.datetime(2018,1,1)\n",
        "end_date = dt.datetime.now()\n",
        "\n",
        "#df1 = web.DataReader('GOOGL', 'yahoo', start, end)\n",
        "#df2 = web.DataReader('AAPL', 'yahoo', start, end)\n",
        "\n",
        "#df_stocks = df1.join(df2)\n",
        "#f = web.DataReader('^DJI', 'stooq')\n",
        "\n",
        "import requests \n",
        "\n",
        "token1 = '6def79739d59d2d0e9793e2947149c7802d824e8'\n",
        "url = \"https://api.tiingo.com/tiingo/daily/{}/prices?startDate=2010-01-03&endDate={}&format=csv&token={}\".format('SPY',end_date,token1)\n",
        "r = requests.get(url)\n"
      ],
      "execution_count": null,
      "outputs": []
    },
    {
      "cell_type": "code",
      "metadata": {
        "id": "DYAxH38j-tZx"
      },
      "source": [
        "data = r.text.split('\\n',)\n",
        "\n",
        "df =pd.DataFrame(data)\n"
      ],
      "execution_count": null,
      "outputs": []
    },
    {
      "cell_type": "code",
      "metadata": {
        "id": "G-X4lzHd_FD4"
      },
      "source": [
        "df=df.iloc[:,0].str.split(\",\",13,expand=True)"
      ],
      "execution_count": null,
      "outputs": []
    },
    {
      "cell_type": "code",
      "metadata": {
        "colab": {
          "base_uri": "https://localhost:8080/",
          "height": 575
        },
        "id": "iM_iShrM3PiQ",
        "outputId": "13063851-a415-4c0d-ef2c-2a0b2081698a"
      },
      "source": [
        "df"
      ],
      "execution_count": null,
      "outputs": [
        {
          "output_type": "execute_result",
          "data": {
            "text/html": [
              "<div>\n",
              "<style scoped>\n",
              "    .dataframe tbody tr th:only-of-type {\n",
              "        vertical-align: middle;\n",
              "    }\n",
              "\n",
              "    .dataframe tbody tr th {\n",
              "        vertical-align: top;\n",
              "    }\n",
              "\n",
              "    .dataframe thead th {\n",
              "        text-align: right;\n",
              "    }\n",
              "</style>\n",
              "<table border=\"1\" class=\"dataframe\">\n",
              "  <thead>\n",
              "    <tr style=\"text-align: right;\">\n",
              "      <th></th>\n",
              "      <th>0</th>\n",
              "      <th>1</th>\n",
              "      <th>2</th>\n",
              "      <th>3</th>\n",
              "      <th>4</th>\n",
              "      <th>5</th>\n",
              "      <th>6</th>\n",
              "      <th>7</th>\n",
              "      <th>8</th>\n",
              "      <th>9</th>\n",
              "      <th>10</th>\n",
              "      <th>11</th>\n",
              "      <th>12</th>\n",
              "    </tr>\n",
              "  </thead>\n",
              "  <tbody>\n",
              "    <tr>\n",
              "      <th>0</th>\n",
              "      <td>date</td>\n",
              "      <td>close</td>\n",
              "      <td>high</td>\n",
              "      <td>low</td>\n",
              "      <td>open</td>\n",
              "      <td>volume</td>\n",
              "      <td>adjClose</td>\n",
              "      <td>adjHigh</td>\n",
              "      <td>adjLow</td>\n",
              "      <td>adjOpen</td>\n",
              "      <td>adjVolume</td>\n",
              "      <td>divCash</td>\n",
              "      <td>splitFactor</td>\n",
              "    </tr>\n",
              "    <tr>\n",
              "      <th>1</th>\n",
              "      <td>2010-01-04</td>\n",
              "      <td>113.33</td>\n",
              "      <td>113.39</td>\n",
              "      <td>111.51</td>\n",
              "      <td>112.37</td>\n",
              "      <td>118857369</td>\n",
              "      <td>91.0365460671784</td>\n",
              "      <td>91.0847433032503</td>\n",
              "      <td>89.5745632396635</td>\n",
              "      <td>90.2653902900277</td>\n",
              "      <td>118857369</td>\n",
              "      <td>0.0</td>\n",
              "      <td>1.0</td>\n",
              "    </tr>\n",
              "    <tr>\n",
              "      <th>2</th>\n",
              "      <td>2010-01-05</td>\n",
              "      <td>113.63</td>\n",
              "      <td>113.68</td>\n",
              "      <td>112.85</td>\n",
              "      <td>113.26</td>\n",
              "      <td>111519230</td>\n",
              "      <td>91.277532247538</td>\n",
              "      <td>91.3176966109313</td>\n",
              "      <td>90.6509681786031</td>\n",
              "      <td>90.9803159584278</td>\n",
              "      <td>111519230</td>\n",
              "      <td>0.0</td>\n",
              "      <td>1.0</td>\n",
              "    </tr>\n",
              "    <tr>\n",
              "      <th>3</th>\n",
              "      <td>2010-01-06</td>\n",
              "      <td>113.71</td>\n",
              "      <td>113.99</td>\n",
              "      <td>113.43</td>\n",
              "      <td>113.52</td>\n",
              "      <td>116017127</td>\n",
              "      <td>91.3417952289672</td>\n",
              "      <td>91.5667156639695</td>\n",
              "      <td>91.116874793965</td>\n",
              "      <td>91.1891706480728</td>\n",
              "      <td>116017127</td>\n",
              "      <td>0.0</td>\n",
              "      <td>1.0</td>\n",
              "    </tr>\n",
              "    <tr>\n",
              "      <th>4</th>\n",
              "      <td>2010-01-07</td>\n",
              "      <td>114.19</td>\n",
              "      <td>114.33</td>\n",
              "      <td>113.18</td>\n",
              "      <td>113.5</td>\n",
              "      <td>130502017</td>\n",
              "      <td>91.7273731175426</td>\n",
              "      <td>91.8398333350437</td>\n",
              "      <td>90.9160529769986</td>\n",
              "      <td>91.1731049027155</td>\n",
              "      <td>130502017</td>\n",
              "      <td>0.0</td>\n",
              "      <td>1.0</td>\n",
              "    </tr>\n",
              "    <tr>\n",
              "      <th>...</th>\n",
              "      <td>...</td>\n",
              "      <td>...</td>\n",
              "      <td>...</td>\n",
              "      <td>...</td>\n",
              "      <td>...</td>\n",
              "      <td>...</td>\n",
              "      <td>...</td>\n",
              "      <td>...</td>\n",
              "      <td>...</td>\n",
              "      <td>...</td>\n",
              "      <td>...</td>\n",
              "      <td>...</td>\n",
              "      <td>...</td>\n",
              "    </tr>\n",
              "    <tr>\n",
              "      <th>2814</th>\n",
              "      <td>2021-03-09</td>\n",
              "      <td>387.17</td>\n",
              "      <td>389.91</td>\n",
              "      <td>381.7299</td>\n",
              "      <td>385.85</td>\n",
              "      <td>113633556</td>\n",
              "      <td>387.17</td>\n",
              "      <td>389.91</td>\n",
              "      <td>381.7299</td>\n",
              "      <td>385.85</td>\n",
              "      <td>113633556</td>\n",
              "      <td>0.0</td>\n",
              "      <td>1.0</td>\n",
              "    </tr>\n",
              "    <tr>\n",
              "      <th>2815</th>\n",
              "      <td>2021-03-10</td>\n",
              "      <td>389.58</td>\n",
              "      <td>391.4</td>\n",
              "      <td>388.1702</td>\n",
              "      <td>389.69</td>\n",
              "      <td>109899410</td>\n",
              "      <td>389.58</td>\n",
              "      <td>391.4</td>\n",
              "      <td>388.1702</td>\n",
              "      <td>389.69</td>\n",
              "      <td>109899410</td>\n",
              "      <td>0.0</td>\n",
              "      <td>1.0</td>\n",
              "    </tr>\n",
              "    <tr>\n",
              "      <th>2816</th>\n",
              "      <td>2021-03-11</td>\n",
              "      <td>393.53</td>\n",
              "      <td>395.65</td>\n",
              "      <td>391.74</td>\n",
              "      <td>392.23</td>\n",
              "      <td>86245040</td>\n",
              "      <td>393.53</td>\n",
              "      <td>395.65</td>\n",
              "      <td>391.74</td>\n",
              "      <td>392.23</td>\n",
              "      <td>86245040</td>\n",
              "      <td>0.0</td>\n",
              "      <td>1.0</td>\n",
              "    </tr>\n",
              "    <tr>\n",
              "      <th>2817</th>\n",
              "      <td>2021-03-12</td>\n",
              "      <td>394.06</td>\n",
              "      <td>394.21</td>\n",
              "      <td>391.2</td>\n",
              "      <td>392.07</td>\n",
              "      <td>64653565</td>\n",
              "      <td>394.06</td>\n",
              "      <td>394.21</td>\n",
              "      <td>391.2</td>\n",
              "      <td>392.07</td>\n",
              "      <td>64653565</td>\n",
              "      <td>0.0</td>\n",
              "      <td>1.0</td>\n",
              "    </tr>\n",
              "    <tr>\n",
              "      <th>2818</th>\n",
              "      <td></td>\n",
              "      <td>None</td>\n",
              "      <td>None</td>\n",
              "      <td>None</td>\n",
              "      <td>None</td>\n",
              "      <td>None</td>\n",
              "      <td>None</td>\n",
              "      <td>None</td>\n",
              "      <td>None</td>\n",
              "      <td>None</td>\n",
              "      <td>None</td>\n",
              "      <td>None</td>\n",
              "      <td>None</td>\n",
              "    </tr>\n",
              "  </tbody>\n",
              "</table>\n",
              "<p>2819 rows × 13 columns</p>\n",
              "</div>"
            ],
            "text/plain": [
              "              0       1       2   ...         10       11           12\n",
              "0           date   close    high  ...  adjVolume  divCash  splitFactor\n",
              "1     2010-01-04  113.33  113.39  ...  118857369      0.0          1.0\n",
              "2     2010-01-05  113.63  113.68  ...  111519230      0.0          1.0\n",
              "3     2010-01-06  113.71  113.99  ...  116017127      0.0          1.0\n",
              "4     2010-01-07  114.19  114.33  ...  130502017      0.0          1.0\n",
              "...          ...     ...     ...  ...        ...      ...          ...\n",
              "2814  2021-03-09  387.17  389.91  ...  113633556      0.0          1.0\n",
              "2815  2021-03-10  389.58   391.4  ...  109899410      0.0          1.0\n",
              "2816  2021-03-11  393.53  395.65  ...   86245040      0.0          1.0\n",
              "2817  2021-03-12  394.06  394.21  ...   64653565      0.0          1.0\n",
              "2818                None    None  ...       None     None         None\n",
              "\n",
              "[2819 rows x 13 columns]"
            ]
          },
          "metadata": {
            "tags": []
          },
          "execution_count": 52
        }
      ]
    },
    {
      "cell_type": "code",
      "metadata": {
        "id": "8poyZuCayOR7"
      },
      "source": [
        "data"
      ],
      "execution_count": null,
      "outputs": []
    },
    {
      "cell_type": "code",
      "metadata": {
        "id": "-NGF_NU_vK9g"
      },
      "source": [
        "# Allows us to create graph objects for making more customized plots\n",
        "import plotly.graph_objects as go\n",
        "\n",
        "# Use included Google price data to make one plot\n",
        "df_stocks = px.data.stocks()\n",
        "px.line(df_stocks, x='date', y='GOOG', labels={'x':'Date', 'y':'Price'})\n"
      ],
      "execution_count": null,
      "outputs": []
    },
    {
      "cell_type": "code",
      "metadata": {
        "id": "oBmyvzvzw-yc"
      },
      "source": [
        ""
      ],
      "execution_count": null,
      "outputs": []
    },
    {
      "cell_type": "code",
      "metadata": {
        "id": "qpoIyLKUvRj4"
      },
      "source": [
        "# Make multiple line plots\n",
        "px.line(df_stocks, x='date', y=['GOOG','AAPL'], labels={'x':'Date', 'y':'Price'},\n",
        "       title='Apple Vs. Google')\n",
        "\n",
        "# Create a figure to which I'll add plots\n",
        "fig = go.Figure()\n",
        "# You can pull individual columns of data from the dataset and use markers or not\n",
        "fig.add_trace(go.Scatter(x=df_stocks.date, y=df_stocks.AAPL, \n",
        "                        mode='lines', name='Apple'))\n",
        "fig.add_trace(go.Scatter(x=df_stocks.date, y=df_stocks.AMZN, \n",
        "                        mode='lines+markers', name='Amazon'))\n",
        "# You can create custom lines (Dashes : dash, dot, dashdot)\n",
        "fig.add_trace(go.Scatter(x=df_stocks.date, y=df_stocks.GOOG, \n",
        "                        mode='lines+markers', name='Google',\n",
        "                        line=dict(color='firebrick', width=2, dash='dashdot')))\n",
        "# Further style the figure\n",
        "# fig.update_layout(title='Stock Price Data 2018 - 2020',\n",
        "#                    xaxis_title='Price', yaxis_title='Date')\n",
        "\n",
        "# Go crazy styling the figure\n",
        "fig.update_layout(\n",
        "    # Shows gray line without grid, styling fonts, linewidths and more\n",
        "    xaxis=dict(\n",
        "        showline=True,\n",
        "        showgrid=False,\n",
        "        showticklabels=True,\n",
        "        linecolor='rgb(204, 204, 204)',\n",
        "        linewidth=2,\n",
        "        ticks='outside',\n",
        "        tickfont=dict(\n",
        "            family='Arial',\n",
        "            size=12,\n",
        "            color='rgb(82, 82, 82)',\n",
        "        ),\n",
        "    ),\n",
        "    # Turn off everything on y axis\n",
        "    yaxis=dict(\n",
        "        showgrid=False,\n",
        "        zeroline=False,\n",
        "        showline=False,\n",
        "        showticklabels=False,\n",
        "    ),\n",
        "    autosize=False,\n",
        "    margin=dict(\n",
        "        autoexpand=False,\n",
        "        l=100,\n",
        "        r=20,\n",
        "        t=110,\n",
        "    ),\n",
        "    showlegend=False,\n",
        "    plot_bgcolor='white'\n",
        ")"
      ],
      "execution_count": null,
      "outputs": []
    }
  ]
}